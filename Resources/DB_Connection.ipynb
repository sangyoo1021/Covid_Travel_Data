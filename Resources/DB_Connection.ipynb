{
 "cells": [
  {
   "cell_type": "code",
   "execution_count": 13,
   "id": "9dcd77e3",
   "metadata": {},
   "outputs": [],
   "source": [
    "import psycopg2"
   ]
  },
  {
   "cell_type": "code",
   "execution_count": 15,
   "id": "39c53e57",
   "metadata": {},
   "outputs": [
    {
     "name": "stdout",
     "output_type": "stream",
     "text": [
      "<connection object at 0x0000019FE7D4D948; dsn: 'user=NEMERY password=xxx dbname=CovidTravelData_FinalProject host=finalproject-instance.ckx9kfzdxygp.us-east-1.rds.amazonaws.com port=5432', closed: 0>\n"
     ]
    }
   ],
   "source": [
    "import psycopg2\n",
    "engine = psycopg2.connect(\n",
    "    database=\"CovidTravelData_FinalProject\",\n",
    "    user=\"NEMERY\",\n",
    "    password= pw,\n",
    "    host=\"finalproject-instance.ckx9kfzdxygp.us-east-1.rds.amazonaws.com\",\n",
    "    port='5432'\n",
    ")\n",
    "print(engine)"
   ]
  },
  {
   "cell_type": "code",
   "execution_count": null,
   "id": "047a31ee",
   "metadata": {},
   "outputs": [],
   "source": []
  },
  {
   "cell_type": "code",
   "execution_count": null,
   "id": "db3695f0",
   "metadata": {},
   "outputs": [],
   "source": []
  }
 ],
 "metadata": {
  "kernelspec": {
   "display_name": "mlenv",
   "language": "python",
   "name": "mlenv"
  },
  "language_info": {
   "codemirror_mode": {
    "name": "ipython",
    "version": 3
   },
   "file_extension": ".py",
   "mimetype": "text/x-python",
   "name": "python",
   "nbconvert_exporter": "python",
   "pygments_lexer": "ipython3",
   "version": "3.7.13"
  }
 },
 "nbformat": 4,
 "nbformat_minor": 5
}
