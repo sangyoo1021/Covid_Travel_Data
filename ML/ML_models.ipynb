{
 "cells": [
  {
   "cell_type": "code",
   "execution_count": 1,
   "id": "f7ecf307",
   "metadata": {},
   "outputs": [],
   "source": [
    "import pandas as pd\n",
    "from pathlib import Path\n",
    "import matplotlib.pyplot as plt\n",
    "from sklearn.linear_model import LinearRegression\n",
    "from sklearn.ensemble import RandomForestClassifier\n",
    "\n",
    "import numpy as np \n",
    "from sqlalchemy import create_engine\n",
    "import psycopg2\n",
    "import matplotlib.pyplot as plt\n",
    "from sklearn.preprocessing import StandardScaler\n",
    "from sklearn.model_selection import train_test_split\n",
    "from sklearn.linear_model import Ridge\n",
    "from sklearn.metrics import confusion_matrix, accuracy_score, classification_report\n",
    "\n",
    "\n",
    "from sklearn.metrics import mean_squared_error, mean_absolute_error, r2_score\n",
    "from config import db_password\n",
    "from sklearn.ensemble import RandomForestRegressor"
   ]
  },
  {
   "cell_type": "code",
   "execution_count": 2,
   "id": "78dd74f6",
   "metadata": {},
   "outputs": [
    {
     "data": {
      "text/html": [
       "<div>\n",
       "<style scoped>\n",
       "    .dataframe tbody tr th:only-of-type {\n",
       "        vertical-align: middle;\n",
       "    }\n",
       "\n",
       "    .dataframe tbody tr th {\n",
       "        vertical-align: top;\n",
       "    }\n",
       "\n",
       "    .dataframe thead th {\n",
       "        text-align: right;\n",
       "    }\n",
       "</style>\n",
       "<table border=\"1\" class=\"dataframe\">\n",
       "  <thead>\n",
       "    <tr style=\"text-align: right;\">\n",
       "      <th></th>\n",
       "      <th>date</th>\n",
       "      <th>year</th>\n",
       "      <th>monthnumber</th>\n",
       "      <th>month</th>\n",
       "      <th>mm_yyyy</th>\n",
       "      <th>daynumber</th>\n",
       "      <th>newcases</th>\n",
       "      <th>totalcases</th>\n",
       "      <th>newdeaths</th>\n",
       "      <th>totalvaccinations</th>\n",
       "      <th>peoplevaccinated</th>\n",
       "      <th>peoplefullyvaccinated</th>\n",
       "      <th>newvaccinations</th>\n",
       "      <th>numberofpassengers</th>\n",
       "    </tr>\n",
       "  </thead>\n",
       "  <tbody>\n",
       "    <tr>\n",
       "      <th>0</th>\n",
       "      <td>2020-01-01</td>\n",
       "      <td>2020</td>\n",
       "      <td>1</td>\n",
       "      <td>January</td>\n",
       "      <td>Jan-20</td>\n",
       "      <td>4</td>\n",
       "      <td>NaN</td>\n",
       "      <td>NaN</td>\n",
       "      <td>NaN</td>\n",
       "      <td>NaN</td>\n",
       "      <td>NaN</td>\n",
       "      <td>NaN</td>\n",
       "      <td>NaN</td>\n",
       "      <td>2178656</td>\n",
       "    </tr>\n",
       "    <tr>\n",
       "      <th>1</th>\n",
       "      <td>2020-01-02</td>\n",
       "      <td>2020</td>\n",
       "      <td>1</td>\n",
       "      <td>January</td>\n",
       "      <td>Jan-20</td>\n",
       "      <td>5</td>\n",
       "      <td>NaN</td>\n",
       "      <td>NaN</td>\n",
       "      <td>NaN</td>\n",
       "      <td>NaN</td>\n",
       "      <td>NaN</td>\n",
       "      <td>NaN</td>\n",
       "      <td>NaN</td>\n",
       "      <td>2422272</td>\n",
       "    </tr>\n",
       "    <tr>\n",
       "      <th>2</th>\n",
       "      <td>2020-01-03</td>\n",
       "      <td>2020</td>\n",
       "      <td>1</td>\n",
       "      <td>January</td>\n",
       "      <td>Jan-20</td>\n",
       "      <td>6</td>\n",
       "      <td>NaN</td>\n",
       "      <td>NaN</td>\n",
       "      <td>NaN</td>\n",
       "      <td>NaN</td>\n",
       "      <td>NaN</td>\n",
       "      <td>NaN</td>\n",
       "      <td>NaN</td>\n",
       "      <td>2210542</td>\n",
       "    </tr>\n",
       "    <tr>\n",
       "      <th>3</th>\n",
       "      <td>2020-01-04</td>\n",
       "      <td>2020</td>\n",
       "      <td>1</td>\n",
       "      <td>January</td>\n",
       "      <td>Jan-20</td>\n",
       "      <td>7</td>\n",
       "      <td>NaN</td>\n",
       "      <td>NaN</td>\n",
       "      <td>NaN</td>\n",
       "      <td>NaN</td>\n",
       "      <td>NaN</td>\n",
       "      <td>NaN</td>\n",
       "      <td>NaN</td>\n",
       "      <td>1806480</td>\n",
       "    </tr>\n",
       "    <tr>\n",
       "      <th>4</th>\n",
       "      <td>2020-01-05</td>\n",
       "      <td>2020</td>\n",
       "      <td>1</td>\n",
       "      <td>January</td>\n",
       "      <td>Jan-20</td>\n",
       "      <td>1</td>\n",
       "      <td>NaN</td>\n",
       "      <td>NaN</td>\n",
       "      <td>NaN</td>\n",
       "      <td>NaN</td>\n",
       "      <td>NaN</td>\n",
       "      <td>NaN</td>\n",
       "      <td>NaN</td>\n",
       "      <td>1815040</td>\n",
       "    </tr>\n",
       "  </tbody>\n",
       "</table>\n",
       "</div>"
      ],
      "text/plain": [
       "         date  year  monthnumber    month mm_yyyy  daynumber  newcases  \\\n",
       "0  2020-01-01  2020            1  January  Jan-20          4       NaN   \n",
       "1  2020-01-02  2020            1  January  Jan-20          5       NaN   \n",
       "2  2020-01-03  2020            1  January  Jan-20          6       NaN   \n",
       "3  2020-01-04  2020            1  January  Jan-20          7       NaN   \n",
       "4  2020-01-05  2020            1  January  Jan-20          1       NaN   \n",
       "\n",
       "   totalcases  newdeaths  totalvaccinations  peoplevaccinated  \\\n",
       "0         NaN        NaN                NaN               NaN   \n",
       "1         NaN        NaN                NaN               NaN   \n",
       "2         NaN        NaN                NaN               NaN   \n",
       "3         NaN        NaN                NaN               NaN   \n",
       "4         NaN        NaN                NaN               NaN   \n",
       "\n",
       "   peoplefullyvaccinated  newvaccinations  numberofpassengers  \n",
       "0                    NaN              NaN             2178656  \n",
       "1                    NaN              NaN             2422272  \n",
       "2                    NaN              NaN             2210542  \n",
       "3                    NaN              NaN             1806480  \n",
       "4                    NaN              NaN             1815040  "
      ]
     },
     "execution_count": 2,
     "metadata": {},
     "output_type": "execute_result"
    }
   ],
   "source": [
    "df = pd.read_csv(Path('../Resources/Covid_TravelData_Full.csv'))\n",
    "df.head()"
   ]
  },
  {
   "cell_type": "code",
   "execution_count": 3,
   "id": "01a02b37",
   "metadata": {},
   "outputs": [
    {
     "data": {
      "text/html": [
       "<div>\n",
       "<style scoped>\n",
       "    .dataframe tbody tr th:only-of-type {\n",
       "        vertical-align: middle;\n",
       "    }\n",
       "\n",
       "    .dataframe tbody tr th {\n",
       "        vertical-align: top;\n",
       "    }\n",
       "\n",
       "    .dataframe thead th {\n",
       "        text-align: right;\n",
       "    }\n",
       "</style>\n",
       "<table border=\"1\" class=\"dataframe\">\n",
       "  <thead>\n",
       "    <tr style=\"text-align: right;\">\n",
       "      <th></th>\n",
       "      <th>date</th>\n",
       "      <th>year</th>\n",
       "      <th>monthnumber</th>\n",
       "      <th>month</th>\n",
       "      <th>mm_yyyy</th>\n",
       "      <th>daynumber</th>\n",
       "      <th>newcases</th>\n",
       "      <th>totalcases</th>\n",
       "      <th>newdeaths</th>\n",
       "      <th>totalvaccinations</th>\n",
       "      <th>peoplevaccinated</th>\n",
       "      <th>peoplefullyvaccinated</th>\n",
       "      <th>newvaccinations</th>\n",
       "      <th>numberofpassengers</th>\n",
       "    </tr>\n",
       "  </thead>\n",
       "  <tbody>\n",
       "    <tr>\n",
       "      <th>0</th>\n",
       "      <td>2020-01-01</td>\n",
       "      <td>2020</td>\n",
       "      <td>1</td>\n",
       "      <td>January</td>\n",
       "      <td>Jan-20</td>\n",
       "      <td>4</td>\n",
       "      <td>0.0</td>\n",
       "      <td>0.0</td>\n",
       "      <td>0.0</td>\n",
       "      <td>0.0</td>\n",
       "      <td>0.0</td>\n",
       "      <td>0.0</td>\n",
       "      <td>0.0</td>\n",
       "      <td>2178656</td>\n",
       "    </tr>\n",
       "    <tr>\n",
       "      <th>1</th>\n",
       "      <td>2020-01-02</td>\n",
       "      <td>2020</td>\n",
       "      <td>1</td>\n",
       "      <td>January</td>\n",
       "      <td>Jan-20</td>\n",
       "      <td>5</td>\n",
       "      <td>0.0</td>\n",
       "      <td>0.0</td>\n",
       "      <td>0.0</td>\n",
       "      <td>0.0</td>\n",
       "      <td>0.0</td>\n",
       "      <td>0.0</td>\n",
       "      <td>0.0</td>\n",
       "      <td>2422272</td>\n",
       "    </tr>\n",
       "    <tr>\n",
       "      <th>2</th>\n",
       "      <td>2020-01-03</td>\n",
       "      <td>2020</td>\n",
       "      <td>1</td>\n",
       "      <td>January</td>\n",
       "      <td>Jan-20</td>\n",
       "      <td>6</td>\n",
       "      <td>0.0</td>\n",
       "      <td>0.0</td>\n",
       "      <td>0.0</td>\n",
       "      <td>0.0</td>\n",
       "      <td>0.0</td>\n",
       "      <td>0.0</td>\n",
       "      <td>0.0</td>\n",
       "      <td>2210542</td>\n",
       "    </tr>\n",
       "    <tr>\n",
       "      <th>3</th>\n",
       "      <td>2020-01-04</td>\n",
       "      <td>2020</td>\n",
       "      <td>1</td>\n",
       "      <td>January</td>\n",
       "      <td>Jan-20</td>\n",
       "      <td>7</td>\n",
       "      <td>0.0</td>\n",
       "      <td>0.0</td>\n",
       "      <td>0.0</td>\n",
       "      <td>0.0</td>\n",
       "      <td>0.0</td>\n",
       "      <td>0.0</td>\n",
       "      <td>0.0</td>\n",
       "      <td>1806480</td>\n",
       "    </tr>\n",
       "    <tr>\n",
       "      <th>4</th>\n",
       "      <td>2020-01-05</td>\n",
       "      <td>2020</td>\n",
       "      <td>1</td>\n",
       "      <td>January</td>\n",
       "      <td>Jan-20</td>\n",
       "      <td>1</td>\n",
       "      <td>0.0</td>\n",
       "      <td>0.0</td>\n",
       "      <td>0.0</td>\n",
       "      <td>0.0</td>\n",
       "      <td>0.0</td>\n",
       "      <td>0.0</td>\n",
       "      <td>0.0</td>\n",
       "      <td>1815040</td>\n",
       "    </tr>\n",
       "  </tbody>\n",
       "</table>\n",
       "</div>"
      ],
      "text/plain": [
       "         date  year  monthnumber    month mm_yyyy  daynumber  newcases  \\\n",
       "0  2020-01-01  2020            1  January  Jan-20          4       0.0   \n",
       "1  2020-01-02  2020            1  January  Jan-20          5       0.0   \n",
       "2  2020-01-03  2020            1  January  Jan-20          6       0.0   \n",
       "3  2020-01-04  2020            1  January  Jan-20          7       0.0   \n",
       "4  2020-01-05  2020            1  January  Jan-20          1       0.0   \n",
       "\n",
       "   totalcases  newdeaths  totalvaccinations  peoplevaccinated  \\\n",
       "0         0.0        0.0                0.0               0.0   \n",
       "1         0.0        0.0                0.0               0.0   \n",
       "2         0.0        0.0                0.0               0.0   \n",
       "3         0.0        0.0                0.0               0.0   \n",
       "4         0.0        0.0                0.0               0.0   \n",
       "\n",
       "   peoplefullyvaccinated  newvaccinations  numberofpassengers  \n",
       "0                    0.0              0.0             2178656  \n",
       "1                    0.0              0.0             2422272  \n",
       "2                    0.0              0.0             2210542  \n",
       "3                    0.0              0.0             1806480  \n",
       "4                    0.0              0.0             1815040  "
      ]
     },
     "execution_count": 3,
     "metadata": {},
     "output_type": "execute_result"
    }
   ],
   "source": [
    "# fill the Nan with 0\n",
    "df = df.fillna(0)\n",
    "df.head()"
   ]
  },
  {
   "cell_type": "markdown",
   "id": "4e969c30",
   "metadata": {},
   "source": [
    "## Linear Regression"
   ]
  },
  {
   "cell_type": "code",
   "execution_count": 4,
   "id": "f1546a84",
   "metadata": {},
   "outputs": [
    {
     "data": {
      "text/html": [
       "<div>\n",
       "<style scoped>\n",
       "    .dataframe tbody tr th:only-of-type {\n",
       "        vertical-align: middle;\n",
       "    }\n",
       "\n",
       "    .dataframe tbody tr th {\n",
       "        vertical-align: top;\n",
       "    }\n",
       "\n",
       "    .dataframe thead th {\n",
       "        text-align: right;\n",
       "    }\n",
       "</style>\n",
       "<table border=\"1\" class=\"dataframe\">\n",
       "  <thead>\n",
       "    <tr style=\"text-align: right;\">\n",
       "      <th></th>\n",
       "      <th>newcases</th>\n",
       "      <th>totalcases</th>\n",
       "      <th>newdeaths</th>\n",
       "      <th>totalvaccinations</th>\n",
       "      <th>peoplevaccinated</th>\n",
       "      <th>peoplefullyvaccinated</th>\n",
       "      <th>newvaccinations</th>\n",
       "    </tr>\n",
       "  </thead>\n",
       "  <tbody>\n",
       "    <tr>\n",
       "      <th>0</th>\n",
       "      <td>0.0</td>\n",
       "      <td>0.0</td>\n",
       "      <td>0.0</td>\n",
       "      <td>0.0</td>\n",
       "      <td>0.0</td>\n",
       "      <td>0.0</td>\n",
       "      <td>0.0</td>\n",
       "    </tr>\n",
       "    <tr>\n",
       "      <th>1</th>\n",
       "      <td>0.0</td>\n",
       "      <td>0.0</td>\n",
       "      <td>0.0</td>\n",
       "      <td>0.0</td>\n",
       "      <td>0.0</td>\n",
       "      <td>0.0</td>\n",
       "      <td>0.0</td>\n",
       "    </tr>\n",
       "    <tr>\n",
       "      <th>2</th>\n",
       "      <td>0.0</td>\n",
       "      <td>0.0</td>\n",
       "      <td>0.0</td>\n",
       "      <td>0.0</td>\n",
       "      <td>0.0</td>\n",
       "      <td>0.0</td>\n",
       "      <td>0.0</td>\n",
       "    </tr>\n",
       "    <tr>\n",
       "      <th>3</th>\n",
       "      <td>0.0</td>\n",
       "      <td>0.0</td>\n",
       "      <td>0.0</td>\n",
       "      <td>0.0</td>\n",
       "      <td>0.0</td>\n",
       "      <td>0.0</td>\n",
       "      <td>0.0</td>\n",
       "    </tr>\n",
       "    <tr>\n",
       "      <th>4</th>\n",
       "      <td>0.0</td>\n",
       "      <td>0.0</td>\n",
       "      <td>0.0</td>\n",
       "      <td>0.0</td>\n",
       "      <td>0.0</td>\n",
       "      <td>0.0</td>\n",
       "      <td>0.0</td>\n",
       "    </tr>\n",
       "  </tbody>\n",
       "</table>\n",
       "</div>"
      ],
      "text/plain": [
       "   newcases  totalcases  newdeaths  totalvaccinations  peoplevaccinated  \\\n",
       "0       0.0         0.0        0.0                0.0               0.0   \n",
       "1       0.0         0.0        0.0                0.0               0.0   \n",
       "2       0.0         0.0        0.0                0.0               0.0   \n",
       "3       0.0         0.0        0.0                0.0               0.0   \n",
       "4       0.0         0.0        0.0                0.0               0.0   \n",
       "\n",
       "   peoplefullyvaccinated  newvaccinations  \n",
       "0                    0.0              0.0  \n",
       "1                    0.0              0.0  \n",
       "2                    0.0              0.0  \n",
       "3                    0.0              0.0  \n",
       "4                    0.0              0.0  "
      ]
     },
     "execution_count": 4,
     "metadata": {},
     "output_type": "execute_result"
    }
   ],
   "source": [
    "y = df['numberofpassengers']\n",
    "X = df.drop(columns=[\"numberofpassengers\", \"date\", \"year\", \"monthnumber\", \"month\", \"mm_yyyy\", \"daynumber\"])\n",
    "X.head()"
   ]
  },
  {
   "cell_type": "code",
   "execution_count": 5,
   "id": "1a26ca47",
   "metadata": {},
   "outputs": [
    {
     "data": {
      "text/plain": [
       "(668, 7)"
      ]
     },
     "execution_count": 5,
     "metadata": {},
     "output_type": "execute_result"
    }
   ],
   "source": [
    "X_train, X_test, y_train, y_test = train_test_split(X,y, random_state=1)\n",
    "\n",
    "X_train.shape"
   ]
  },
  {
   "cell_type": "code",
   "execution_count": 6,
   "id": "d3750cfc",
   "metadata": {},
   "outputs": [
    {
     "data": {
      "text/plain": [
       "223"
      ]
     },
     "execution_count": 6,
     "metadata": {},
     "output_type": "execute_result"
    }
   ],
   "source": [
    "len(X_test)"
   ]
  },
  {
   "cell_type": "code",
   "execution_count": 7,
   "id": "b4dd7e7f",
   "metadata": {},
   "outputs": [
    {
     "data": {
      "text/plain": [
       "223"
      ]
     },
     "execution_count": 7,
     "metadata": {},
     "output_type": "execute_result"
    }
   ],
   "source": [
    "len(y_test)"
   ]
  },
  {
   "cell_type": "code",
   "execution_count": 8,
   "id": "2a18fa60",
   "metadata": {},
   "outputs": [],
   "source": [
    "# Create a StandardScaler instances\n",
    "scaler = StandardScaler()\n",
    "\n",
    "# Fit the StandardScaler\n",
    "X_scaler = scaler.fit(X_train)\n",
    "\n",
    "# Scale the data\n",
    "X_train_scaled = X_scaler.transform(X_train)\n",
    "X_test_scaled = X_scaler.transform(X_test)"
   ]
  },
  {
   "cell_type": "code",
   "execution_count": 9,
   "id": "3c6949df",
   "metadata": {},
   "outputs": [
    {
     "data": {
      "text/html": [
       "<style>#sk-container-id-1 {color: black;background-color: white;}#sk-container-id-1 pre{padding: 0;}#sk-container-id-1 div.sk-toggleable {background-color: white;}#sk-container-id-1 label.sk-toggleable__label {cursor: pointer;display: block;width: 100%;margin-bottom: 0;padding: 0.3em;box-sizing: border-box;text-align: center;}#sk-container-id-1 label.sk-toggleable__label-arrow:before {content: \"▸\";float: left;margin-right: 0.25em;color: #696969;}#sk-container-id-1 label.sk-toggleable__label-arrow:hover:before {color: black;}#sk-container-id-1 div.sk-estimator:hover label.sk-toggleable__label-arrow:before {color: black;}#sk-container-id-1 div.sk-toggleable__content {max-height: 0;max-width: 0;overflow: hidden;text-align: left;background-color: #f0f8ff;}#sk-container-id-1 div.sk-toggleable__content pre {margin: 0.2em;color: black;border-radius: 0.25em;background-color: #f0f8ff;}#sk-container-id-1 input.sk-toggleable__control:checked~div.sk-toggleable__content {max-height: 200px;max-width: 100%;overflow: auto;}#sk-container-id-1 input.sk-toggleable__control:checked~label.sk-toggleable__label-arrow:before {content: \"▾\";}#sk-container-id-1 div.sk-estimator input.sk-toggleable__control:checked~label.sk-toggleable__label {background-color: #d4ebff;}#sk-container-id-1 div.sk-label input.sk-toggleable__control:checked~label.sk-toggleable__label {background-color: #d4ebff;}#sk-container-id-1 input.sk-hidden--visually {border: 0;clip: rect(1px 1px 1px 1px);clip: rect(1px, 1px, 1px, 1px);height: 1px;margin: -1px;overflow: hidden;padding: 0;position: absolute;width: 1px;}#sk-container-id-1 div.sk-estimator {font-family: monospace;background-color: #f0f8ff;border: 1px dotted black;border-radius: 0.25em;box-sizing: border-box;margin-bottom: 0.5em;}#sk-container-id-1 div.sk-estimator:hover {background-color: #d4ebff;}#sk-container-id-1 div.sk-parallel-item::after {content: \"\";width: 100%;border-bottom: 1px solid gray;flex-grow: 1;}#sk-container-id-1 div.sk-label:hover label.sk-toggleable__label {background-color: #d4ebff;}#sk-container-id-1 div.sk-serial::before {content: \"\";position: absolute;border-left: 1px solid gray;box-sizing: border-box;top: 0;bottom: 0;left: 50%;z-index: 0;}#sk-container-id-1 div.sk-serial {display: flex;flex-direction: column;align-items: center;background-color: white;padding-right: 0.2em;padding-left: 0.2em;position: relative;}#sk-container-id-1 div.sk-item {position: relative;z-index: 1;}#sk-container-id-1 div.sk-parallel {display: flex;align-items: stretch;justify-content: center;background-color: white;position: relative;}#sk-container-id-1 div.sk-item::before, #sk-container-id-1 div.sk-parallel-item::before {content: \"\";position: absolute;border-left: 1px solid gray;box-sizing: border-box;top: 0;bottom: 0;left: 50%;z-index: -1;}#sk-container-id-1 div.sk-parallel-item {display: flex;flex-direction: column;z-index: 1;position: relative;background-color: white;}#sk-container-id-1 div.sk-parallel-item:first-child::after {align-self: flex-end;width: 50%;}#sk-container-id-1 div.sk-parallel-item:last-child::after {align-self: flex-start;width: 50%;}#sk-container-id-1 div.sk-parallel-item:only-child::after {width: 0;}#sk-container-id-1 div.sk-dashed-wrapped {border: 1px dashed gray;margin: 0 0.4em 0.5em 0.4em;box-sizing: border-box;padding-bottom: 0.4em;background-color: white;}#sk-container-id-1 div.sk-label label {font-family: monospace;font-weight: bold;display: inline-block;line-height: 1.2em;}#sk-container-id-1 div.sk-label-container {text-align: center;}#sk-container-id-1 div.sk-container {/* jupyter's `normalize.less` sets `[hidden] { display: none; }` but bootstrap.min.css set `[hidden] { display: none !important; }` so we also need the `!important` here to be able to override the default hidden behavior on the sphinx rendered scikit-learn.org. See: https://github.com/scikit-learn/scikit-learn/issues/21755 */display: inline-block !important;position: relative;}#sk-container-id-1 div.sk-text-repr-fallback {display: none;}</style><div id=\"sk-container-id-1\" class=\"sk-top-container\"><div class=\"sk-text-repr-fallback\"><pre>LinearRegression()</pre><b>In a Jupyter environment, please rerun this cell to show the HTML representation or trust the notebook. <br />On GitHub, the HTML representation is unable to render, please try loading this page with nbviewer.org.</b></div><div class=\"sk-container\" hidden><div class=\"sk-item\"><div class=\"sk-estimator sk-toggleable\"><input class=\"sk-toggleable__control sk-hidden--visually\" id=\"sk-estimator-id-1\" type=\"checkbox\" checked><label for=\"sk-estimator-id-1\" class=\"sk-toggleable__label sk-toggleable__label-arrow\">LinearRegression</label><div class=\"sk-toggleable__content\"><pre>LinearRegression()</pre></div></div></div></div></div>"
      ],
      "text/plain": [
       "LinearRegression()"
      ]
     },
     "execution_count": 9,
     "metadata": {},
     "output_type": "execute_result"
    }
   ],
   "source": [
    "model = LinearRegression()\n",
    "model.fit(X_train_scaled, y_train)"
   ]
  },
  {
   "cell_type": "code",
   "execution_count": 10,
   "id": "c777f87d",
   "metadata": {},
   "outputs": [
    {
     "data": {
      "text/plain": [
       "array([2250867.94535217,  859281.96523524,  972045.05112415,\n",
       "       2061348.3698166 , 1932877.4535275 , 1490202.12250493,\n",
       "        815777.32605791, 1050253.14144647, 1050253.28706752,\n",
       "        899905.25129976, 2163674.29458872, 1050253.14144647,\n",
       "       1050253.14144647, 1050253.14144647,  906350.28476635,\n",
       "       1092927.65467912, 1998721.20544537, 1563063.21901806,\n",
       "        888333.39108446, 1216859.47927925,  739487.29904243,\n",
       "       1048588.80449704, 1996294.19875073,  347572.64029621,\n",
       "        476574.77936589, 2113125.56858492, 1489968.96406226,\n",
       "       2220683.44031038, 1904936.65265165, 1862452.67669724,\n",
       "       2105205.74223127, 1055438.63688021, 1396955.29265287,\n",
       "       1772219.53001453, 1876354.05062085,  863881.01182943,\n",
       "       1608582.97992905,  835894.81589099,  486193.87240606,\n",
       "       1978083.49945581,  812986.27888048, 1050253.14144647,\n",
       "       2238032.48990006,  844221.53938449, 2099364.72873231,\n",
       "        489155.05800772, 1050018.16475714, 2172445.2769182 ,\n",
       "       1597332.89467957, 2174454.99537587,  951254.10765246,\n",
       "       1050253.3532589 ,  852374.24900731,  898549.64755176,\n",
       "       1019960.6393417 ,  787019.79309269, 1023573.86210673,\n",
       "       1586240.29555674, 1050253.14144647,  983224.51284275,\n",
       "        994224.71142658, 2197393.75725291, 2173758.60289294,\n",
       "        998918.79022066, 1879007.94637197,  959055.0668518 ,\n",
       "       1680366.42886862,  975623.85468002,  842241.79939764,\n",
       "        845407.50389283, 1982141.50399296, 1866419.23908772,\n",
       "       1740224.15369422, 1896605.94150701, 1628054.45598588,\n",
       "       1997094.28910639,  924574.76483638, 1825032.38207318,\n",
       "       1488088.06437756, 1828078.99074302, 1801242.51919396,\n",
       "        954621.40215226, 1563388.73912509,  840952.6333727 ,\n",
       "       1305651.04598645, 1835463.9730127 , 1794304.44207818,\n",
       "       1903536.95106128, 2037862.60812323, 1705285.61360537,\n",
       "       2108352.75732876, 1945282.31744588, 2015905.87379859,\n",
       "       1050253.32678235, 2034478.24864173, 1141987.40626462,\n",
       "        675756.65743311, 1050253.14144647, 2146631.16098866,\n",
       "       2241641.30443706, 2017969.66156395, 2228088.41029441,\n",
       "       1049782.68430904, 1935054.43024995,  682089.88448626,\n",
       "        403410.23056438,  797469.79991376, 1120637.18771701,\n",
       "       1050253.32678235,  562521.74245873, 1950685.77674508,\n",
       "       1050253.00141685, 1554080.88905305,  930331.53692968,\n",
       "       1632678.56764279, 1823415.71880615,  714143.59883816,\n",
       "       1995420.96720018, 1787035.71110751, 1907298.90541872,\n",
       "       1072109.58454785,  981177.00006436,  553841.07142877,\n",
       "       1592223.5527924 ,  862827.97999473, 2159181.18883478,\n",
       "       1334912.52856692, 1958478.84227538,  971129.16318058,\n",
       "       2153984.156234  ,  884165.40703381,  788261.1497115 ,\n",
       "       1609246.79620099, 1735531.46090213,  952110.74634316,\n",
       "        879713.55877835, 1947825.37267732,  409787.30298174,\n",
       "        432837.62794623, 1936349.58911226, 1788989.40389203,\n",
       "       2107705.04155617, 1265709.4240334 ,  826452.8368832 ,\n",
       "        565381.53023941, 1050253.32678235, 1289933.40468888,\n",
       "        614418.81841254, 2215629.54790324, 1805353.3048825 ,\n",
       "       1460542.67909544, 1745572.01492624, 1050253.14144647,\n",
       "        933908.85195285, 1901500.87862556, 1533641.62890097,\n",
       "        994539.87445066, 2195887.88754662, 2198555.04114551,\n",
       "       1472936.09087209, 1820824.26914623,  886647.04509056,\n",
       "        544572.19633043, 1050253.08740096, 1048840.37481184,\n",
       "       2233938.15616918, 1757188.53198747, 1790201.06913644,\n",
       "       1953412.73999927, 1752644.42752712,  854651.28689197,\n",
       "        500633.98325134, 1036160.16861594,  901461.45294008,\n",
       "       1835707.65163457, 2198909.89264606, 1575817.8485992 ,\n",
       "       1027451.091131  , 1239212.50835582,  924056.78819023,\n",
       "        896216.42604107, 1730309.37613144,  547965.05606528,\n",
       "       1981069.65291738, 1828120.5413744 ,  975334.19200374,\n",
       "       1985530.93022616,  911395.60135923, 1945740.53663981,\n",
       "        988000.62151008, 1013369.35846193,  667526.68593287,\n",
       "        932963.3720422 , 2010862.08591268, 2188191.34783739,\n",
       "       1049078.70019558, 1059016.06560691,  989878.02940652,\n",
       "       2092878.15462017, 1637026.42195579, 1119210.36422168,\n",
       "       1957124.10764733, 2045388.59897149,  676673.97495628,\n",
       "        941202.68517882,  450975.89731213, 1274818.37326044,\n",
       "        650917.67338324, 1800014.73176997,  475890.08632408,\n",
       "        832221.12356364, 2213014.98448589, 1050253.28597511,\n",
       "       1863394.77391434, 1934264.4022849 , 1867815.61325177,\n",
       "       1056781.24810118,  791616.54301315, 1854963.74188952,\n",
       "       1505827.03430924, 1615930.47590452,  870097.39295291,\n",
       "       1307337.29075404])"
      ]
     },
     "execution_count": 10,
     "metadata": {},
     "output_type": "execute_result"
    }
   ],
   "source": [
    "y_pred = model.predict(X_test_scaled)\n",
    "model_pred = y_pred\n",
    "model_pred"
   ]
  },
  {
   "cell_type": "code",
   "execution_count": 11,
   "id": "59b164b1",
   "metadata": {},
   "outputs": [
    {
     "data": {
      "text/html": [
       "<div>\n",
       "<style scoped>\n",
       "    .dataframe tbody tr th:only-of-type {\n",
       "        vertical-align: middle;\n",
       "    }\n",
       "\n",
       "    .dataframe tbody tr th {\n",
       "        vertical-align: top;\n",
       "    }\n",
       "\n",
       "    .dataframe thead th {\n",
       "        text-align: right;\n",
       "    }\n",
       "</style>\n",
       "<table border=\"1\" class=\"dataframe\">\n",
       "  <thead>\n",
       "    <tr style=\"text-align: right;\">\n",
       "      <th></th>\n",
       "      <th>Prediction</th>\n",
       "      <th>Actual</th>\n",
       "    </tr>\n",
       "  </thead>\n",
       "  <tbody>\n",
       "    <tr>\n",
       "      <th>862</th>\n",
       "      <td>2.250868e+06</td>\n",
       "      <td>2327671</td>\n",
       "    </tr>\n",
       "    <tr>\n",
       "      <th>223</th>\n",
       "      <td>8.592820e+05</td>\n",
       "      <td>590749</td>\n",
       "    </tr>\n",
       "    <tr>\n",
       "      <th>84</th>\n",
       "      <td>9.720451e+05</td>\n",
       "      <td>184027</td>\n",
       "    </tr>\n",
       "    <tr>\n",
       "      <th>680</th>\n",
       "      <td>2.061348e+06</td>\n",
       "      <td>2064753</td>\n",
       "    </tr>\n",
       "    <tr>\n",
       "      <th>535</th>\n",
       "      <td>1.932877e+06</td>\n",
       "      <td>1882381</td>\n",
       "    </tr>\n",
       "    <tr>\n",
       "      <th>623</th>\n",
       "      <td>1.490202e+06</td>\n",
       "      <td>1455913</td>\n",
       "    </tr>\n",
       "    <tr>\n",
       "      <th>148</th>\n",
       "      <td>8.157773e+05</td>\n",
       "      <td>352947</td>\n",
       "    </tr>\n",
       "    <tr>\n",
       "      <th>3</th>\n",
       "      <td>1.050253e+06</td>\n",
       "      <td>1806480</td>\n",
       "    </tr>\n",
       "    <tr>\n",
       "      <th>34</th>\n",
       "      <td>1.050253e+06</td>\n",
       "      <td>2271551</td>\n",
       "    </tr>\n",
       "    <tr>\n",
       "      <th>241</th>\n",
       "      <td>8.999053e+05</td>\n",
       "      <td>807695</td>\n",
       "    </tr>\n",
       "  </tbody>\n",
       "</table>\n",
       "</div>"
      ],
      "text/plain": [
       "       Prediction   Actual\n",
       "862  2.250868e+06  2327671\n",
       "223  8.592820e+05   590749\n",
       "84   9.720451e+05   184027\n",
       "680  2.061348e+06  2064753\n",
       "535  1.932877e+06  1882381\n",
       "623  1.490202e+06  1455913\n",
       "148  8.157773e+05   352947\n",
       "3    1.050253e+06  1806480\n",
       "34   1.050253e+06  2271551\n",
       "241  8.999053e+05   807695"
      ]
     },
     "execution_count": 11,
     "metadata": {},
     "output_type": "execute_result"
    }
   ],
   "source": [
    "# Create the DF for Prediction and Actual values\n",
    "predictions_df = pd.DataFrame({\"Prediction\": y_pred, \"Actual\": y_test})\n",
    "predictions_df.head(10)"
   ]
  },
  {
   "cell_type": "code",
   "execution_count": 12,
   "id": "7c161d58",
   "metadata": {},
   "outputs": [],
   "source": [
    "# Saving predictions_df \n",
    "predictions_df.to_csv(\"../Resources/PredDF_LR.csv\", index=False)"
   ]
  },
  {
   "cell_type": "code",
   "execution_count": 13,
   "id": "276511cc",
   "metadata": {},
   "outputs": [
    {
     "name": "stdout",
     "output_type": "stream",
     "text": [
      "linear regression r2 score is 0.6132624442816819\n",
      "mean_squared_error is == 171889109661.1699\n",
      "root_mean_squared error is == 414595.11533684266\n"
     ]
    }
   ],
   "source": [
    "# accuracy score\n",
    "model_score = r2_score(y_test,y_pred)\n",
    "print('linear regression r2 score is', model_score)\n",
    "print(\"mean_squared_error is ==\",mean_squared_error(y_test, y_pred))\n",
    "print(\"root_mean_squared error is ==\",np.sqrt(mean_squared_error(y_test, y_pred)))"
   ]
  },
  {
   "cell_type": "markdown",
   "id": "aa619696",
   "metadata": {},
   "source": [
    "### Correlation Matrix\n"
   ]
  },
  {
   "cell_type": "code",
   "execution_count": 14,
   "id": "ab31370b",
   "metadata": {},
   "outputs": [
    {
     "data": {
      "text/plain": [
       "array([[1.        , 0.62958704],\n",
       "       [0.62958704, 1.        ]])"
      ]
     },
     "execution_count": 14,
     "metadata": {},
     "output_type": "execute_result"
    }
   ],
   "source": [
    "# Correlation Matrix of total covid cases and number of passengers.\n",
    "r1 = np.corrcoef(X.totalcases,y)\n",
    "r1"
   ]
  },
  {
   "cell_type": "code",
   "execution_count": 15,
   "id": "a97ca6f3",
   "metadata": {},
   "outputs": [
    {
     "data": {
      "text/plain": [
       "array([[1.        , 0.70755578],\n",
       "       [0.70755578, 1.        ]])"
      ]
     },
     "execution_count": 15,
     "metadata": {},
     "output_type": "execute_result"
    }
   ],
   "source": [
    "# Correlation Matrix of total vaccinations and number of passengers.\n",
    "r2 = np.corrcoef(X.totalvaccinations,y)\n",
    "r2"
   ]
  },
  {
   "cell_type": "code",
   "execution_count": 16,
   "id": "122b367b",
   "metadata": {},
   "outputs": [
    {
     "data": {
      "text/plain": [
       "array([[1.        , 0.71984721],\n",
       "       [0.71984721, 1.        ]])"
      ]
     },
     "execution_count": 16,
     "metadata": {},
     "output_type": "execute_result"
    }
   ],
   "source": [
    "# Correlation Matrix of people fully vaccinated and number of passengers.\n",
    "r3 = np.corrcoef(X.peoplefullyvaccinated,y)\n",
    "r3"
   ]
  },
  {
   "cell_type": "code",
   "execution_count": 17,
   "id": "5a0552cc",
   "metadata": {},
   "outputs": [
    {
     "data": {
      "text/plain": [
       "array([[1.        , 0.02317779],\n",
       "       [0.02317779, 1.        ]])"
      ]
     },
     "execution_count": 17,
     "metadata": {},
     "output_type": "execute_result"
    }
   ],
   "source": [
    "# Correlation Matrix of new covid cases and number of passengers.\n",
    "r4 = np.corrcoef(X.newcases,y)\n",
    "r4"
   ]
  },
  {
   "cell_type": "markdown",
   "id": "e693abb9",
   "metadata": {},
   "source": [
    "## Random Forest Classifier Model"
   ]
  },
  {
   "cell_type": "code",
   "execution_count": 18,
   "id": "17a9aa57",
   "metadata": {},
   "outputs": [],
   "source": [
    "# Create a random forest classifier.\n",
    "rf_model = RandomForestClassifier(n_estimators=100, random_state=0)"
   ]
  },
  {
   "cell_type": "code",
   "execution_count": 19,
   "id": "8d75d21e",
   "metadata": {},
   "outputs": [
    {
     "data": {
      "text/html": [
       "<style>#sk-container-id-2 {color: black;background-color: white;}#sk-container-id-2 pre{padding: 0;}#sk-container-id-2 div.sk-toggleable {background-color: white;}#sk-container-id-2 label.sk-toggleable__label {cursor: pointer;display: block;width: 100%;margin-bottom: 0;padding: 0.3em;box-sizing: border-box;text-align: center;}#sk-container-id-2 label.sk-toggleable__label-arrow:before {content: \"▸\";float: left;margin-right: 0.25em;color: #696969;}#sk-container-id-2 label.sk-toggleable__label-arrow:hover:before {color: black;}#sk-container-id-2 div.sk-estimator:hover label.sk-toggleable__label-arrow:before {color: black;}#sk-container-id-2 div.sk-toggleable__content {max-height: 0;max-width: 0;overflow: hidden;text-align: left;background-color: #f0f8ff;}#sk-container-id-2 div.sk-toggleable__content pre {margin: 0.2em;color: black;border-radius: 0.25em;background-color: #f0f8ff;}#sk-container-id-2 input.sk-toggleable__control:checked~div.sk-toggleable__content {max-height: 200px;max-width: 100%;overflow: auto;}#sk-container-id-2 input.sk-toggleable__control:checked~label.sk-toggleable__label-arrow:before {content: \"▾\";}#sk-container-id-2 div.sk-estimator input.sk-toggleable__control:checked~label.sk-toggleable__label {background-color: #d4ebff;}#sk-container-id-2 div.sk-label input.sk-toggleable__control:checked~label.sk-toggleable__label {background-color: #d4ebff;}#sk-container-id-2 input.sk-hidden--visually {border: 0;clip: rect(1px 1px 1px 1px);clip: rect(1px, 1px, 1px, 1px);height: 1px;margin: -1px;overflow: hidden;padding: 0;position: absolute;width: 1px;}#sk-container-id-2 div.sk-estimator {font-family: monospace;background-color: #f0f8ff;border: 1px dotted black;border-radius: 0.25em;box-sizing: border-box;margin-bottom: 0.5em;}#sk-container-id-2 div.sk-estimator:hover {background-color: #d4ebff;}#sk-container-id-2 div.sk-parallel-item::after {content: \"\";width: 100%;border-bottom: 1px solid gray;flex-grow: 1;}#sk-container-id-2 div.sk-label:hover label.sk-toggleable__label {background-color: #d4ebff;}#sk-container-id-2 div.sk-serial::before {content: \"\";position: absolute;border-left: 1px solid gray;box-sizing: border-box;top: 0;bottom: 0;left: 50%;z-index: 0;}#sk-container-id-2 div.sk-serial {display: flex;flex-direction: column;align-items: center;background-color: white;padding-right: 0.2em;padding-left: 0.2em;position: relative;}#sk-container-id-2 div.sk-item {position: relative;z-index: 1;}#sk-container-id-2 div.sk-parallel {display: flex;align-items: stretch;justify-content: center;background-color: white;position: relative;}#sk-container-id-2 div.sk-item::before, #sk-container-id-2 div.sk-parallel-item::before {content: \"\";position: absolute;border-left: 1px solid gray;box-sizing: border-box;top: 0;bottom: 0;left: 50%;z-index: -1;}#sk-container-id-2 div.sk-parallel-item {display: flex;flex-direction: column;z-index: 1;position: relative;background-color: white;}#sk-container-id-2 div.sk-parallel-item:first-child::after {align-self: flex-end;width: 50%;}#sk-container-id-2 div.sk-parallel-item:last-child::after {align-self: flex-start;width: 50%;}#sk-container-id-2 div.sk-parallel-item:only-child::after {width: 0;}#sk-container-id-2 div.sk-dashed-wrapped {border: 1px dashed gray;margin: 0 0.4em 0.5em 0.4em;box-sizing: border-box;padding-bottom: 0.4em;background-color: white;}#sk-container-id-2 div.sk-label label {font-family: monospace;font-weight: bold;display: inline-block;line-height: 1.2em;}#sk-container-id-2 div.sk-label-container {text-align: center;}#sk-container-id-2 div.sk-container {/* jupyter's `normalize.less` sets `[hidden] { display: none; }` but bootstrap.min.css set `[hidden] { display: none !important; }` so we also need the `!important` here to be able to override the default hidden behavior on the sphinx rendered scikit-learn.org. See: https://github.com/scikit-learn/scikit-learn/issues/21755 */display: inline-block !important;position: relative;}#sk-container-id-2 div.sk-text-repr-fallback {display: none;}</style><div id=\"sk-container-id-2\" class=\"sk-top-container\"><div class=\"sk-text-repr-fallback\"><pre>RandomForestClassifier(random_state=0)</pre><b>In a Jupyter environment, please rerun this cell to show the HTML representation or trust the notebook. <br />On GitHub, the HTML representation is unable to render, please try loading this page with nbviewer.org.</b></div><div class=\"sk-container\" hidden><div class=\"sk-item\"><div class=\"sk-estimator sk-toggleable\"><input class=\"sk-toggleable__control sk-hidden--visually\" id=\"sk-estimator-id-2\" type=\"checkbox\" checked><label for=\"sk-estimator-id-2\" class=\"sk-toggleable__label sk-toggleable__label-arrow\">RandomForestClassifier</label><div class=\"sk-toggleable__content\"><pre>RandomForestClassifier(random_state=0)</pre></div></div></div></div></div>"
      ],
      "text/plain": [
       "RandomForestClassifier(random_state=0)"
      ]
     },
     "execution_count": 19,
     "metadata": {},
     "output_type": "execute_result"
    }
   ],
   "source": [
    "# Fitting the model\n",
    "rf_model = rf_model.fit(X_train_scaled, y_train)\n",
    "rf_model"
   ]
  },
  {
   "cell_type": "code",
   "execution_count": 20,
   "id": "59989ffe",
   "metadata": {},
   "outputs": [
    {
     "name": "stdout",
     "output_type": "stream",
     "text": [
      "[2352035  831789  199644 1559772 2030577 1820152  264843 2155747 1948138\n",
      "  578131 1990954 2155747 2155747 2155747 1192881  744812 1736292 1728383\n",
      "  711124 1146539  701709 1257823 2040364  567401  114459 2196867 1728383\n",
      " 1979713 1545955 1459054 2213168  662484 1465197 2017937 2028961  764468\n",
      " 1854534  419675  874406 2100167  683212 2155747 2350927  501513 1978691\n",
      "  874406 2198517 2288800 1533544 2293242  764761 1814047  540043  784746\n",
      "  279018  190477  523186 1672895 2155747  864783  625235 1900738 2275133\n",
      "  625235 2118528  873038 1672895  761861  724770  866679 1871986 2044545\n",
      " 1738406 1449698 1782705 1736292  542338 1738406 1369410 1820433 1618169\n",
      "  386969 1510829  724770 1369410 2062579 1761348 1945026 1962056 1995747\n",
      " 1626185 1811767 2068792 1814047 2036479 1267345   94931 2155747 2379860\n",
      " 2096466 1785846 1946502 2119867 1660506 1070967 1066747  118302 1190682\n",
      " 1814047  552024 2114166 2167857 1510829  659350 1666715 1979089  119629\n",
      " 1992577 1879885 1844208  744812  772380   93645 1059741  703135 2387196\n",
      " 1477841 1880160  695330 1883294  694150  914823 2063090 2010601  154080\n",
      "  646654 2007412  603527  772471 1695970 1743515 2158280 1227484  914823\n",
      "  119854 1814047 1146539  130601 2387196 1681192 1259724 1853622 2155747\n",
      "  694150 2081064 1591438  883157 1863020 2036479 1446353 1678231 1191123\n",
      "  111627 1658886 1485553 1946502 1468219 2063090 2127634 1446353  784746\n",
      "  169580  549741  494826 2132807 2307110 1460478 1051149 1408198  892712\n",
      "  689951 1900170  119854 2007412 2023309  565946 2227704  689951 1966456\n",
      "  697985  625235  865014  936915 2379860 1764745 2198517  568688 1168734\n",
      " 2150150 1315493 1286894 2227704 1815824  163205  873038  787489 1192973\n",
      "  215645 1618169  114459  683212 2263646 2198657 2023309 2100761 1545955\n",
      "  967693  689951 1820433 1195306 1301462 1064619 1408198]\n"
     ]
    }
   ],
   "source": [
    "# Evaluate the model\n",
    "y_pred_RF = rf_model.predict(X_test_scaled)\n",
    "print(rf_model.predict(X_test_scaled))"
   ]
  },
  {
   "cell_type": "code",
   "execution_count": 21,
   "id": "dd8dc8be",
   "metadata": {},
   "outputs": [
    {
     "data": {
      "text/html": [
       "<div>\n",
       "<style scoped>\n",
       "    .dataframe tbody tr th:only-of-type {\n",
       "        vertical-align: middle;\n",
       "    }\n",
       "\n",
       "    .dataframe tbody tr th {\n",
       "        vertical-align: top;\n",
       "    }\n",
       "\n",
       "    .dataframe thead th {\n",
       "        text-align: right;\n",
       "    }\n",
       "</style>\n",
       "<table border=\"1\" class=\"dataframe\">\n",
       "  <thead>\n",
       "    <tr style=\"text-align: right;\">\n",
       "      <th></th>\n",
       "      <th>Prediction</th>\n",
       "      <th>Actual</th>\n",
       "    </tr>\n",
       "  </thead>\n",
       "  <tbody>\n",
       "    <tr>\n",
       "      <th>862</th>\n",
       "      <td>2352035</td>\n",
       "      <td>2327671</td>\n",
       "    </tr>\n",
       "    <tr>\n",
       "      <th>223</th>\n",
       "      <td>831789</td>\n",
       "      <td>590749</td>\n",
       "    </tr>\n",
       "    <tr>\n",
       "      <th>84</th>\n",
       "      <td>199644</td>\n",
       "      <td>184027</td>\n",
       "    </tr>\n",
       "    <tr>\n",
       "      <th>680</th>\n",
       "      <td>1559772</td>\n",
       "      <td>2064753</td>\n",
       "    </tr>\n",
       "    <tr>\n",
       "      <th>535</th>\n",
       "      <td>2030577</td>\n",
       "      <td>1882381</td>\n",
       "    </tr>\n",
       "    <tr>\n",
       "      <th>623</th>\n",
       "      <td>1820152</td>\n",
       "      <td>1455913</td>\n",
       "    </tr>\n",
       "    <tr>\n",
       "      <th>148</th>\n",
       "      <td>264843</td>\n",
       "      <td>352947</td>\n",
       "    </tr>\n",
       "    <tr>\n",
       "      <th>3</th>\n",
       "      <td>2155747</td>\n",
       "      <td>1806480</td>\n",
       "    </tr>\n",
       "    <tr>\n",
       "      <th>34</th>\n",
       "      <td>1948138</td>\n",
       "      <td>2271551</td>\n",
       "    </tr>\n",
       "    <tr>\n",
       "      <th>241</th>\n",
       "      <td>578131</td>\n",
       "      <td>807695</td>\n",
       "    </tr>\n",
       "  </tbody>\n",
       "</table>\n",
       "</div>"
      ],
      "text/plain": [
       "     Prediction   Actual\n",
       "862     2352035  2327671\n",
       "223      831789   590749\n",
       "84       199644   184027\n",
       "680     1559772  2064753\n",
       "535     2030577  1882381\n",
       "623     1820152  1455913\n",
       "148      264843   352947\n",
       "3       2155747  1806480\n",
       "34      1948138  2271551\n",
       "241      578131   807695"
      ]
     },
     "execution_count": 21,
     "metadata": {},
     "output_type": "execute_result"
    }
   ],
   "source": [
    "# create the dataframe for Prediction and Actual values\n",
    "predictions_RF = pd.DataFrame({\"Prediction\": y_pred_RF, \"Actual\": y_test})\n",
    "predictions_RF.head(10)"
   ]
  },
  {
   "cell_type": "code",
   "execution_count": 22,
   "id": "4122eb61",
   "metadata": {},
   "outputs": [],
   "source": [
    "# Saving predictions_df \n",
    "predictions_RF.to_csv(\"../Resources/Predictions_RF.csv\", index=False)"
   ]
  },
  {
   "cell_type": "code",
   "execution_count": 23,
   "id": "dc407849",
   "metadata": {},
   "outputs": [
    {
     "name": "stdout",
     "output_type": "stream",
     "text": [
      "r2 score is 0.8588100391688871\n",
      "mean_squared_error is == 62753193480.98655\n",
      "root_mean_squared error is == 250505.87514265318\n"
     ]
    }
   ],
   "source": [
    "# accuracy score\n",
    "model_rf_score = r2_score(predictions_RF.Actual, predictions_RF.Prediction)\n",
    "print('r2 score is', model_rf_score)\n",
    "print(\"mean_squared_error is ==\",mean_squared_error(predictions_RF.Actual, predictions_RF.Prediction))\n",
    "print(\"root_mean_squared error is ==\",np.sqrt(mean_squared_error(predictions_RF.Actual, predictions_RF.Prediction)))"
   ]
  },
  {
   "cell_type": "markdown",
   "id": "5ec0bd3b",
   "metadata": {},
   "source": [
    "Random Forest Model has the a R-squared value of 85%. This means that Random Forest Model is better in prediction when compared to the Linear Regression Model whith an accuracy score of 61%."
   ]
  },
  {
   "cell_type": "code",
   "execution_count": null,
   "id": "70f8fc27",
   "metadata": {},
   "outputs": [],
   "source": []
  }
 ],
 "metadata": {
  "kernelspec": {
   "display_name": "Python 3 (ipykernel)",
   "language": "python",
   "name": "python3"
  },
  "language_info": {
   "codemirror_mode": {
    "name": "ipython",
    "version": 3
   },
   "file_extension": ".py",
   "mimetype": "text/x-python",
   "name": "python",
   "nbconvert_exporter": "python",
   "pygments_lexer": "ipython3",
   "version": "3.9.7"
  }
 },
 "nbformat": 4,
 "nbformat_minor": 5
}
