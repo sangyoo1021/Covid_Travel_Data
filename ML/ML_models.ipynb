{
 "cells": [
  {
   "cell_type": "code",
   "execution_count": null,
   "id": "f7ecf307",
   "metadata": {},
   "outputs": [],
   "source": [
    "import pandas as pd\n",
    "from pathlib import Path\n",
    "import matplotlib.pyplot as plt\n",
    "from sklearn.linear_model import LinearRegression\n",
    "from sklearn.linear_model import LogisticRegression\n",
    "\n",
    "import numpy as np \n",
    "from sqlalchemy import create_engine\n",
    "import psycopg2\n",
    "import matplotlib.pyplot as plt\n",
    "from sklearn.preprocessing import StandardScaler\n",
    "from sklearn.model_selection import train_test_split\n",
    "from sklearn.linear_model import Ridge\n",
    "\n",
    "\n",
    "from sklearn.metrics import mean_squared_error, mean_absolute_error, r2_score\n",
    "from config import db_password\n",
    "from sklearn.ensemble import RandomForestRegressor"
   ]
  },
  {
   "cell_type": "code",
   "execution_count": null,
   "id": "f1474ed5",
   "metadata": {},
   "outputs": [],
   "source": [
    "#notes convert month to number \n",
    "\n",
    "months_num = {\n",
    "   \"January\": 1,\n",
    "   \"February\": 2,\n",
    "   \"March\": 3,\n",
    "   \"April\": 4,\n",
    "   \"May\": 5,\n",
    "   \"June\": 6,\n",
    "   \"July\": 7,\n",
    "   \"August\": 8,\n",
    "   \"September\": 9,\n",
    "   \"October\": 10,\n",
    "   \"November\": 11,\n",
    "   \"December\": 12,\n",
    "}\n",
    "\n",
    "loans_df[\"month_num\"] = loans_df[\"month\"].apply(lambda x: months_num[x])\n",
    "\n",
    "loans_df = loans_df.drop([\"month\", \"month_le\"], axis=1)\n",
    "loans_df.head()"
   ]
  },
  {
   "cell_type": "code",
   "execution_count": null,
   "id": "d6fde1fc",
   "metadata": {},
   "outputs": [],
   "source": []
  },
  {
   "cell_type": "code",
   "execution_count": null,
   "id": "1d74f0b8",
   "metadata": {},
   "outputs": [],
   "source": []
  },
  {
   "cell_type": "markdown",
   "id": "4e969c30",
   "metadata": {},
   "source": [
    "## Linear Regression"
   ]
  },
  {
   "cell_type": "code",
   "execution_count": null,
   "id": "8a66d04c",
   "metadata": {},
   "outputs": [],
   "source": [
    "df = pd.read_csv(Path('./filehere'))\n",
    "df.head()"
   ]
  },
  {
   "cell_type": "markdown",
   "id": "5fa1d834",
   "metadata": {},
   "source": [
    "Inspect relationship between variables"
   ]
  },
  {
   "cell_type": "code",
   "execution_count": null,
   "id": "3a4e0009",
   "metadata": {},
   "outputs": [],
   "source": [
    "# plt.scatter(df.(ColumnName1, df.ColumnName2)\n",
    "# plt.xlabel('ColumnName1')\n",
    "# plt.ylabel('ColumnName2')\n",
    "# plt.show()"
   ]
  },
  {
   "cell_type": "code",
   "execution_count": null,
   "id": "f1546a84",
   "metadata": {},
   "outputs": [],
   "source": [
    "# X = df[['ColumnName1','ColumnName2','Columname3']] or .drop(y)\n",
    "# y = df['columnName3']"
   ]
  },
  {
   "cell_type": "code",
   "execution_count": null,
   "id": "1a26ca47",
   "metadata": {},
   "outputs": [],
   "source": [
    "# from sklearn.model_selection import train_test_split\n",
    "\n",
    "# X_train, X_test, y_train, y_test = train_test_split(X,y, random_state=1, stratify=y)\n",
    "\n",
    "# X_train.shape"
   ]
  },
  {
   "cell_type": "code",
   "execution_count": null,
   "id": "2ec94cf6",
   "metadata": {},
   "outputs": [],
   "source": [
    "#classifier = LogisticRegression(solver='lbfgs',max_iter-200,random_state=1)"
   ]
  },
  {
   "cell_type": "code",
   "execution_count": null,
   "id": "1b5f30b3",
   "metadata": {},
   "outputs": [],
   "source": [
    "#classifier.fit(X_train, y_train)"
   ]
  },
  {
   "cell_type": "code",
   "execution_count": null,
   "id": "c272e18c",
   "metadata": {},
   "outputs": [],
   "source": [
    "# y_pred = classifier.predict(X_test)\n",
    "# results = pd.DataFrame({\"prediction\": y_pred, \"Actual\": y_test}).reset_index(drop=True)\n",
    "# results.head()"
   ]
  },
  {
   "cell_type": "code",
   "execution_count": null,
   "id": "577e3b58",
   "metadata": {},
   "outputs": [],
   "source": [
    "# from sklearn.metrics import accuracy_score\n",
    "# print(accuracy_score(y_test, y_pred))"
   ]
  },
  {
   "cell_type": "code",
   "execution_count": null,
   "id": "c611995f",
   "metadata": {},
   "outputs": [],
   "source": []
  },
  {
   "cell_type": "code",
   "execution_count": null,
   "id": "564fa1f4",
   "metadata": {},
   "outputs": [],
   "source": []
  },
  {
   "cell_type": "code",
   "execution_count": null,
   "id": "58d95d90",
   "metadata": {},
   "outputs": [],
   "source": []
  },
  {
   "cell_type": "code",
   "execution_count": null,
   "id": "c6fc6d35",
   "metadata": {},
   "outputs": [],
   "source": [
    "# from sklearn.model_selection import train_test_split"
   ]
  },
  {
   "cell_type": "code",
   "execution_count": null,
   "id": "0a88da09",
   "metadata": {},
   "outputs": [],
   "source": [
    "# X_train, X_test, y_train, y_test = train_test_split(X,y, test_size = 0.2)"
   ]
  },
  {
   "cell_type": "code",
   "execution_count": null,
   "id": "3777f8a0",
   "metadata": {},
   "outputs": [],
   "source": [
    "# from sklearn.linear_model import LinearRegression\n",
    "# classifier = LinearRegression()"
   ]
  },
  {
   "cell_type": "code",
   "execution_count": null,
   "id": "f29f7ceb",
   "metadata": {},
   "outputs": [],
   "source": [
    "# classifier.fit(X_train, y_train)"
   ]
  },
  {
   "cell_type": "code",
   "execution_count": null,
   "id": "88359da9",
   "metadata": {},
   "outputs": [],
   "source": [
    "# classifier.predict(X_test)"
   ]
  },
  {
   "cell_type": "code",
   "execution_count": null,
   "id": "ec2da57e",
   "metadata": {},
   "outputs": [],
   "source": [
    "# Accuracy score\n",
    "# classifier.score(X_test,y_test)"
   ]
  },
  {
   "cell_type": "code",
   "execution_count": null,
   "id": "e70c0c34",
   "metadata": {},
   "outputs": [],
   "source": []
  },
  {
   "cell_type": "code",
   "execution_count": null,
   "id": "ca5da698",
   "metadata": {},
   "outputs": [],
   "source": []
  },
  {
   "cell_type": "code",
   "execution_count": null,
   "id": "f074ee24",
   "metadata": {},
   "outputs": [],
   "source": []
  },
  {
   "cell_type": "code",
   "execution_count": null,
   "id": "40592d1c",
   "metadata": {},
   "outputs": [],
   "source": [
    "# X.shape"
   ]
  },
  {
   "cell_type": "code",
   "execution_count": null,
   "id": "2b883ece",
   "metadata": {},
   "outputs": [],
   "source": [
    "# model = LinearRegression()"
   ]
  },
  {
   "cell_type": "code",
   "execution_count": null,
   "id": "bcdde309",
   "metadata": {},
   "outputs": [],
   "source": [
    "# model.fit(X, y)"
   ]
  },
  {
   "cell_type": "code",
   "execution_count": null,
   "id": "46b5cb26",
   "metadata": {},
   "outputs": [],
   "source": [
    "# y_pred = model.predict(X)\n",
    "# print(y_pred.shape)"
   ]
  },
  {
   "cell_type": "code",
   "execution_count": null,
   "id": "b9f69993",
   "metadata": {},
   "outputs": [],
   "source": [
    "# plot prediction\n",
    "# plt.scatter(X, y)\n",
    "# plt.plot(X, y_pred, color='red')\n",
    "# plt.show()"
   ]
  },
  {
   "cell_type": "code",
   "execution_count": null,
   "id": "b082af89",
   "metadata": {},
   "outputs": [],
   "source": [
    "# examine the specific parameters of our model: the slope and the y-intercept.\n",
    "# The slope is represented by model.coef_, and model.intercept_ is the y-intercept:\n",
    "# print(model.coef_)\n",
    "# print(model.intercept_)"
   ]
  },
  {
   "cell_type": "code",
   "execution_count": null,
   "id": "114148b0",
   "metadata": {},
   "outputs": [],
   "source": []
  },
  {
   "cell_type": "markdown",
   "id": "72cd11e5",
   "metadata": {},
   "source": [
    "## Multiple linear regression\n"
   ]
  },
  {
   "cell_type": "code",
   "execution_count": null,
   "id": "c063d603",
   "metadata": {},
   "outputs": [],
   "source": [
    "# #(if we use postgresql)\n",
    "# engine = create_engine(f\"postgresql://postgres:\")\n",
    "# conn = engine.connect()\n",
    "# cursor= engine.execute('SELECT * FROM final_df')\n",
    "# final_df=pd.DataFrame(cursor, columns=[\"date\", \"cases\",\"stc\"])\n",
    "# final_df.head()"
   ]
  },
  {
   "cell_type": "code",
   "execution_count": null,
   "id": "60a1da01",
   "metadata": {},
   "outputs": [],
   "source": [
    "# final_df['new_data_traveling'] = working_df['new_data_traveling'].replace(np.nan, 0)\n",
    "# final_df.head()"
   ]
  },
  {
   "cell_type": "code",
   "execution_count": null,
   "id": "1391cb90",
   "metadata": {},
   "outputs": [],
   "source": [
    "# # split our data\n",
    "# y = final_df.()\n",
    "# X = final_df.drop(colums=[\"what we want to drop\",\"y_column])"
   ]
  },
  {
   "cell_type": "code",
   "execution_count": null,
   "id": "77d4ba78",
   "metadata": {},
   "outputs": [],
   "source": [
    "X.shape"
   ]
  },
  {
   "cell_type": "code",
   "execution_count": null,
   "id": "b95597ae",
   "metadata": {},
   "outputs": [],
   "source": [
    "\n",
    "# # Create a StandardScaler instances\n",
    "# scaler = StandardScaler()\n",
    "\n",
    "# # Fit the StandardScaler\n",
    "# X_scaler = scaler.fit(X_train)\n",
    "\n",
    "# # Scale the data\n",
    "# X_train_scaled = X_scaler.transform(X_train)\n",
    "# X_test_scaled = X_scaler.transform(X_test)"
   ]
  },
  {
   "cell_type": "code",
   "execution_count": null,
   "id": "8de4831a",
   "metadata": {},
   "outputs": [],
   "source": [
    "\n",
    "# Fitting Multiple Linear Regression to the Training set\n",
    "regressor = LinearRegression()\n",
    "regressor.fit(X_train_scaled, y_train)"
   ]
  },
  {
   "cell_type": "code",
   "execution_count": null,
   "id": "bc04fdcb",
   "metadata": {},
   "outputs": [],
   "source": [
    "# Predicting the multiple regression test set results\n",
    "y_pred = regressor.predict(X_test_scaled)\n",
    "mult_pred = y_pred\n",
    "mult_pred"
   ]
  },
  {
   "cell_type": "code",
   "execution_count": null,
   "id": "34a2bf7a",
   "metadata": {},
   "outputs": [],
   "source": [
    "# predicting the accuracy score\n",
    "score=r2_score(y_test,y_pred)\n",
    "print('r2 score is', score)\n",
    "print(\"mean_squared_error is ==\",mean_squared_error(y_test, y_pred))\n",
    "print(\"root_mean_squared error is ==\",np.sqrt(mean_squared_error(y_test, y_pred)))"
   ]
  },
  {
   "cell_type": "code",
   "execution_count": null,
   "id": "0b080c2e",
   "metadata": {},
   "outputs": [],
   "source": [
    "predictions_df = pd.DataFrame()\n",
    "predictions_df['Y_test'] = lr_test.tolist()\n",
    "predictions_df['linear_regression'] = lr_pred.tolist()\n",
    "predictions_df['multiple_regression'] = mult_pred.tolist()"
   ]
  },
  {
   "cell_type": "code",
   "execution_count": null,
   "id": "48d55800",
   "metadata": {},
   "outputs": [],
   "source": [
    "predictions_df.to_csv('Resources/CSV files/predictions.csv')"
   ]
  },
  {
   "cell_type": "code",
   "execution_count": null,
   "id": "8f0c3fb9",
   "metadata": {},
   "outputs": [],
   "source": []
  },
  {
   "cell_type": "code",
   "execution_count": null,
   "id": "e5f0b11a",
   "metadata": {},
   "outputs": [],
   "source": []
  },
  {
   "cell_type": "markdown",
   "id": "e693abb9",
   "metadata": {},
   "source": [
    "## Random Forest Classifier Model"
   ]
  },
  {
   "cell_type": "code",
   "execution_count": null,
   "id": "17a9aa57",
   "metadata": {},
   "outputs": [],
   "source": [
    "# Create a random forest classifier.\n",
    "rfc = RandomForestClassifier(n_estimators=100, random_state=0)"
   ]
  },
  {
   "cell_type": "code",
   "execution_count": null,
   "id": "8d75d21e",
   "metadata": {},
   "outputs": [],
   "source": [
    "# Fitting the model\n",
    "rfc = rfc.fit(X_train_scaled, y_train)\n",
    "rfc"
   ]
  },
  {
   "cell_type": "code",
   "execution_count": null,
   "id": "59989ffe",
   "metadata": {},
   "outputs": [],
   "source": [
    "# Evaluate the model\n",
    "y_pred_RandForest = rfc.predict(X_test_scaled)\n",
    "print(rfc.predict(X_test_scaled))"
   ]
  },
  {
   "cell_type": "code",
   "execution_count": null,
   "id": "dd8dc8be",
   "metadata": {},
   "outputs": [],
   "source": [
    "# create the dataframe for Prediction and Actual values\n",
    "predictions_RandForest = pd.DataFrame({\"Prediction\": y_pred_RandForest, \"Actual\": y_test})\n",
    "predictions_RandForest.head(10)"
   ]
  },
  {
   "cell_type": "code",
   "execution_count": null,
   "id": "dc407849",
   "metadata": {},
   "outputs": [],
   "source": [
    "# Calculating the confusion matrix.\n",
    "cm = confusion_matrix(y_test, predictions_RandForest)\n",
    "\n",
    "# Create a DataFrame from the confusion matrix.\n",
    "cm_df = pd.DataFrame(\n",
    "    cm, index=[\"Actual 0\", \"Actual 1\"], columns=[\"Predicted 0\", \"Predicted 1\"])\n",
    "\n",
    "cm_df"
   ]
  },
  {
   "cell_type": "code",
   "execution_count": null,
   "id": "138f54ea",
   "metadata": {},
   "outputs": [],
   "source": [
    "# Calculating the accuracy score.\n",
    "acc_score = accuracy_score(y_test, predictions_RandForest)"
   ]
  },
  {
   "cell_type": "code",
   "execution_count": null,
   "id": "b6289d0b",
   "metadata": {},
   "outputs": [],
   "source": [
    "# Displaying results\n",
    "print(f\"Accuracy Score : {acc_score}\")\n",
    "print(\"Classification Report\")\n",
    "print(classification_report(y_test, predictions_RandForest))"
   ]
  },
  {
   "cell_type": "code",
   "execution_count": null,
   "id": "5b11e406",
   "metadata": {},
   "outputs": [],
   "source": [
    "# Calculate feature importance in the Random Forest model.\n",
    "importances = rfc.feature_importances_\n",
    "importances"
   ]
  },
  {
   "cell_type": "markdown",
   "id": "2d2ae003",
   "metadata": {},
   "source": [
    "## Calculation of metrics:"
   ]
  },
  {
   "cell_type": "code",
   "execution_count": null,
   "id": "f145005d",
   "metadata": {},
   "outputs": [],
   "source": [
    "# Calculate Root Mean Squared Error\n",
    "rmse = np.sqrt(mean_squared_error(predictions_RandForest.Actual, predictions_RandForest.Prediction))\n",
    "rmse"
   ]
  },
  {
   "cell_type": "code",
   "execution_count": null,
   "id": "bf809961",
   "metadata": {},
   "outputs": [],
   "source": [
    "# Calculate Mean Absolute Error\n",
    "mae = mean_absolute_error(predictions_RandForest.Actual, predictions_RandForest.Prediction)\n",
    "mae "
   ]
  },
  {
   "cell_type": "code",
   "execution_count": null,
   "id": "0d282fa0",
   "metadata": {},
   "outputs": [],
   "source": [
    "# Calculate R-squared\n",
    "r2 = r2_score(predictions_RandForest.Actual, predictions_RandForest.Prediction)\n",
    "r2"
   ]
  },
  {
   "cell_type": "markdown",
   "id": "5ec0bd3b",
   "metadata": {},
   "source": [
    "Since R-squared is (HIGH/LOW), it means that this Random Forest Regression Model is (GOOD/BAD) in prediction as compared to the Linear Regression Model which had an accuracy score of ()."
   ]
  },
  {
   "cell_type": "code",
   "execution_count": null,
   "id": "a0ef687c",
   "metadata": {},
   "outputs": [],
   "source": [
    "# Saving predictions data \n",
    "predictions_RandForest.to_csv(\"../Resources/predictions_RandomForest.csv\", index=False)"
   ]
  }
 ],
 "metadata": {
  "kernelspec": {
   "display_name": "Python 3 (ipykernel)",
   "language": "python",
   "name": "python3"
  },
  "language_info": {
   "codemirror_mode": {
    "name": "ipython",
    "version": 3
   },
   "file_extension": ".py",
   "mimetype": "text/x-python",
   "name": "python",
   "nbconvert_exporter": "python",
   "pygments_lexer": "ipython3",
   "version": "3.9.7"
  }
 },
 "nbformat": 4,
 "nbformat_minor": 5
}
